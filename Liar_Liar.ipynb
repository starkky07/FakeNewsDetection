{
  "nbformat": 4,
  "nbformat_minor": 0,
  "metadata": {
    "colab": {
      "name": "Liar-Liar.ipynb",
      "provenance": [],
      "toc_visible": true,
      "include_colab_link": true
    },
    "kernelspec": {
      "name": "python3",
      "display_name": "Python 3"
    }
  },
  "cells": [
    {
      "cell_type": "markdown",
      "metadata": {
        "id": "view-in-github",
        "colab_type": "text"
      },
      "source": [
        "<a href=\"https://colab.research.google.com/github/starkky07/FakeNewsDetection/blob/master/Liar_Liar.ipynb\" target=\"_parent\"><img src=\"https://colab.research.google.com/assets/colab-badge.svg\" alt=\"Open In Colab\"/></a>"
      ]
    },
    {
      "cell_type": "code",
      "metadata": {
        "id": "QGs3_rhpCaP3",
        "colab_type": "code",
        "colab": {}
      },
      "source": [
        "\"\"\"Some important imports\"\"\"\n",
        "import operator\n",
        "import json\n",
        "import numpy as np\n",
        "import pandas as pd\n",
        "import statistics\n",
        "import matplotlib.pyplot as plt\n",
        "from sklearn.datasets import make_moons, make_circles, make_classification,make_blobs,load_iris\n",
        "from sklearn.cluster import DBSCAN\n",
        "from sklearn.neighbors import NearestNeighbors\n",
        "from sklearn.preprocessing import LabelEncoder,MinMaxScaler, StandardScaler\n",
        "from sklearn.model_selection import train_test_split, ParameterGrid, cross_val_score\n",
        "from sklearn.metrics import accuracy_score,roc_auc_score, confusion_matrix, mean_squared_error, log_loss, davies_bouldin_score, silhouette_score\n",
        "from collections import OrderedDict\n",
        "from IPython import display\n",
        "np.random.seed(0)\n",
        "\n",
        "#@title Beautifying_Plot\n",
        "\n",
        "import matplotlib.pyplot as plt\n",
        "import seaborn as sns\n",
        "from matplotlib import cycler\n",
        "colors = cycler('color',\n",
        "                ['#EE6666', '#3388BB', '#9988DD',\n",
        "                 '#EECC55', '#88BB44', '#FFBBBB'])\n",
        "plt.rc('axes', facecolor='#E6E6E6', edgecolor='none',\n",
        "       axisbelow=True, grid=True, prop_cycle=colors)\n",
        "plt.rc('grid', color='w', linestyle='solid')\n",
        "plt.rc('xtick', direction='out', color='gray')\n",
        "plt.rc('ytick', direction='out', color='gray')\n",
        "plt.rc('patch', edgecolor='#E6E6E6')\n",
        "plt.rc('lines', linewidth=2)"
      ],
      "execution_count": null,
      "outputs": []
    },
    {
      "cell_type": "code",
      "metadata": {
        "id": "SOplIoJ4D1R3",
        "colab_type": "code",
        "colab": {}
      },
      "source": [
        "#getting datasets;\n",
        "train_df = pd.read_csv('./train.tsv',sep=\"\\t\",names=['id','label','statement','subject','speaker','job', 'state','party',\n",
        "                                                     'barely_true_cs','false_cs','half_true_cs','mostly_true_cs',\t'pants_on_fire_cs',\t'venue'])\n",
        "test_df = pd.read_csv('./test.tsv',sep=\"\\t\",names=['id','label','statement','subject','speaker','job', 'state','party',\n",
        "                                                     'barely_true_cs','false_cs','half_true_cs','mostly_true_cs',\t'pants_on_fire_cs',\t'venue'])\n",
        "valid_df = pd.read_csv('./valid.tsv',sep=\"\\t\",names=['id','label','statement','subject','speaker','job', 'state','party',\n",
        "                                                     'barely_true_cs','false_cs','half_true_cs','mostly_true_cs',\t'pants_on_fire_cs',\t'venue'])\n"
      ],
      "execution_count": null,
      "outputs": []
    },
    {
      "cell_type": "code",
      "metadata": {
        "id": "5KAKdqU8EJyJ",
        "colab_type": "code",
        "colab": {
          "base_uri": "https://localhost:8080/",
          "height": 643
        },
        "outputId": "39c0e4e5-a2c0-4fd8-9c5f-ab90e01ad840"
      },
      "source": [
        "train_df.head()"
      ],
      "execution_count": null,
      "outputs": [
        {
          "output_type": "execute_result",
          "data": {
            "text/html": [
              "<div>\n",
              "<style scoped>\n",
              "    .dataframe tbody tr th:only-of-type {\n",
              "        vertical-align: middle;\n",
              "    }\n",
              "\n",
              "    .dataframe tbody tr th {\n",
              "        vertical-align: top;\n",
              "    }\n",
              "\n",
              "    .dataframe thead th {\n",
              "        text-align: right;\n",
              "    }\n",
              "</style>\n",
              "<table border=\"1\" class=\"dataframe\">\n",
              "  <thead>\n",
              "    <tr style=\"text-align: right;\">\n",
              "      <th></th>\n",
              "      <th>id</th>\n",
              "      <th>label</th>\n",
              "      <th>statement</th>\n",
              "      <th>subject</th>\n",
              "      <th>speaker</th>\n",
              "      <th>job</th>\n",
              "      <th>state</th>\n",
              "      <th>party</th>\n",
              "      <th>barely_true_cs</th>\n",
              "      <th>false_cs</th>\n",
              "      <th>half_true_cs</th>\n",
              "      <th>mostly_true_cs</th>\n",
              "      <th>pants_on_fire_cs</th>\n",
              "      <th>venue</th>\n",
              "    </tr>\n",
              "  </thead>\n",
              "  <tbody>\n",
              "    <tr>\n",
              "      <th>0</th>\n",
              "      <td>2635.json</td>\n",
              "      <td>false</td>\n",
              "      <td>Says the Annies List political group supports ...</td>\n",
              "      <td>abortion</td>\n",
              "      <td>dwayne-bohac</td>\n",
              "      <td>State representative</td>\n",
              "      <td>Texas</td>\n",
              "      <td>republican</td>\n",
              "      <td>0.0</td>\n",
              "      <td>1.0</td>\n",
              "      <td>0.0</td>\n",
              "      <td>0.0</td>\n",
              "      <td>0.0</td>\n",
              "      <td>a mailer</td>\n",
              "    </tr>\n",
              "    <tr>\n",
              "      <th>1</th>\n",
              "      <td>10540.json</td>\n",
              "      <td>half-true</td>\n",
              "      <td>When did the decline of coal start? It started...</td>\n",
              "      <td>energy,history,job-accomplishments</td>\n",
              "      <td>scott-surovell</td>\n",
              "      <td>State delegate</td>\n",
              "      <td>Virginia</td>\n",
              "      <td>democrat</td>\n",
              "      <td>0.0</td>\n",
              "      <td>0.0</td>\n",
              "      <td>1.0</td>\n",
              "      <td>1.0</td>\n",
              "      <td>0.0</td>\n",
              "      <td>a floor speech.</td>\n",
              "    </tr>\n",
              "    <tr>\n",
              "      <th>2</th>\n",
              "      <td>324.json</td>\n",
              "      <td>mostly-true</td>\n",
              "      <td>Hillary Clinton agrees with John McCain \"by vo...</td>\n",
              "      <td>foreign-policy</td>\n",
              "      <td>barack-obama</td>\n",
              "      <td>President</td>\n",
              "      <td>Illinois</td>\n",
              "      <td>democrat</td>\n",
              "      <td>70.0</td>\n",
              "      <td>71.0</td>\n",
              "      <td>160.0</td>\n",
              "      <td>163.0</td>\n",
              "      <td>9.0</td>\n",
              "      <td>Denver</td>\n",
              "    </tr>\n",
              "    <tr>\n",
              "      <th>3</th>\n",
              "      <td>1123.json</td>\n",
              "      <td>false</td>\n",
              "      <td>Health care reform legislation is likely to ma...</td>\n",
              "      <td>health-care</td>\n",
              "      <td>blog-posting</td>\n",
              "      <td>NaN</td>\n",
              "      <td>NaN</td>\n",
              "      <td>none</td>\n",
              "      <td>7.0</td>\n",
              "      <td>19.0</td>\n",
              "      <td>3.0</td>\n",
              "      <td>5.0</td>\n",
              "      <td>44.0</td>\n",
              "      <td>a news release</td>\n",
              "    </tr>\n",
              "    <tr>\n",
              "      <th>4</th>\n",
              "      <td>9028.json</td>\n",
              "      <td>half-true</td>\n",
              "      <td>The economic turnaround started at the end of ...</td>\n",
              "      <td>economy,jobs</td>\n",
              "      <td>charlie-crist</td>\n",
              "      <td>NaN</td>\n",
              "      <td>Florida</td>\n",
              "      <td>democrat</td>\n",
              "      <td>15.0</td>\n",
              "      <td>9.0</td>\n",
              "      <td>20.0</td>\n",
              "      <td>19.0</td>\n",
              "      <td>2.0</td>\n",
              "      <td>an interview on CNN</td>\n",
              "    </tr>\n",
              "  </tbody>\n",
              "</table>\n",
              "</div>"
            ],
            "text/plain": [
              "           id        label  ... pants_on_fire_cs                venue\n",
              "0   2635.json        false  ...              0.0             a mailer\n",
              "1  10540.json    half-true  ...              0.0      a floor speech.\n",
              "2    324.json  mostly-true  ...              9.0               Denver\n",
              "3   1123.json        false  ...             44.0       a news release\n",
              "4   9028.json    half-true  ...              2.0  an interview on CNN\n",
              "\n",
              "[5 rows x 14 columns]"
            ]
          },
          "metadata": {
            "tags": []
          },
          "execution_count": 66
        }
      ]
    },
    {
      "cell_type": "code",
      "metadata": {
        "id": "wAdioo1xEvtS",
        "colab_type": "code",
        "colab": {
          "base_uri": "https://localhost:8080/",
          "height": 69
        },
        "outputId": "c03e6e14-13dc-4240-e5a4-b0b9e75424dc"
      },
      "source": [
        "print('Train Shape', train_df.shape)\n",
        "print(\"Test Shape\", test_df.shape)\n",
        "print(\"Valid Shape\", valid_df.shape)"
      ],
      "execution_count": null,
      "outputs": [
        {
          "output_type": "stream",
          "text": [
            "Train Shape (10240, 14)\n",
            "Test Shape (1267, 14)\n",
            "Valid Shape (1284, 14)\n"
          ],
          "name": "stdout"
        }
      ]
    },
    {
      "cell_type": "code",
      "metadata": {
        "id": "rlwoYTNjMd2D",
        "colab_type": "code",
        "colab": {
          "base_uri": "https://localhost:8080/",
          "height": 52
        },
        "outputId": "03e2f24a-9639-4700-dc8c-f228bb2842f4"
      },
      "source": [
        "truth = {'false':0.,'half-true':0.5,'mostly-true':0.75,'true':1.,'pants-fire':-0.25,'barely-true':0.25} \n",
        "\n",
        "false_statement = train_df[train_df['label'] == ('false' or 'pants-fire' or 'barely-true')]\n",
        "true_statement = train_df[(train_df['label'] != ('false' or 'pants-fire' or 'barely-true'))]\n",
        "print(false_statement.shape)\n",
        "print(true_statement.shape)"
      ],
      "execution_count": null,
      "outputs": [
        {
          "output_type": "stream",
          "text": [
            "(1995, 14)\n",
            "(8245, 14)\n"
          ],
          "name": "stdout"
        }
      ]
    },
    {
      "cell_type": "code",
      "metadata": {
        "id": "aYiueRaxK3c-",
        "colab_type": "code",
        "colab": {
          "base_uri": "https://localhost:8080/",
          "height": 86
        },
        "outputId": "b2ce4303-adf8-43db-f788-fa778218052c"
      },
      "source": [
        "words_per_statement = false_statement[\"statement\"].apply(lambda x: len(x.split()))\n",
        "stdev_train = statistics.stdev(words_per_statement)\n",
        "words_per_statement_f = words_per_statement.sum()/len(false_statement['statement'])\n",
        "\n",
        "print (\"The average number of words in a fake news article is \", words_per_statement_f)\n",
        "print (\"The standard deviation in fake news article lengths is \", stdev_train)\n",
        "\n",
        "words_per_statement_tru = true_statement[\"statement\"].apply(lambda x: len(x.split()))\n",
        "stdev_train = statistics.stdev(words_per_statement)\n",
        "words_per_statement_t = words_per_statement_tru.sum()/len(true_statement['statement'])\n",
        "\n",
        "print (\"The average number of words in a ral news article is \", words_per_statement_t)\n",
        "print (\"The standard deviation in real news article lengths is \", stdev_train)"
      ],
      "execution_count": null,
      "outputs": [
        {
          "output_type": "stream",
          "text": [
            "The average number of words in a fake news article is  16.985463659147868\n",
            "The standard deviation in fake news article lengths is  10.150734033917924\n",
            "The average number of words in a ral news article is  18.257974530018192\n",
            "The standard deviation in real news article lengths is  10.150734033917924\n"
          ],
          "name": "stdout"
        }
      ]
    },
    {
      "cell_type": "code",
      "metadata": {
        "id": "SVN6Bl3VO3wc",
        "colab_type": "code",
        "colab": {
          "base_uri": "https://localhost:8080/",
          "height": 421
        },
        "outputId": "255e1de1-b764-44ac-87fe-185d9d068310"
      },
      "source": [
        "\n",
        "fig, ax = plt.subplots(1, 2, figsize=(10, 6))\n",
        "sns.distplot(words_per_statement_tru, ax = ax[0], color = \"darkblue\", rug = True).set_title(\"Number of Words in Real News Article\")\n",
        "sns.distplot(words_per_statement, ax = ax[1], color = \"red\", rug = True).set_title(\"Number of Words in Fake News Article\")"
      ],
      "execution_count": null,
      "outputs": [
        {
          "output_type": "execute_result",
          "data": {
            "text/plain": [
              "Text(0.5, 1.0, 'Number of Words in Fake News Article')"
            ]
          },
          "metadata": {
            "tags": []
          },
          "execution_count": 70
        },
        {
          "output_type": "display_data",
          "data": {
            "image/png": "[encoded data removed]",
            "text/plain": [
              "<Figure size 720x432 with 2 Axes>"
            ]
          },
          "metadata": {
            "tags": [],
            "needs_background": "dark"
          }
        }
      ]
    },
    {
      "cell_type": "code",
      "metadata": {
        "id": "BpWgeWgMJxHv",
        "colab_type": "code",
        "colab": {
          "base_uri": "https://localhost:8080/",
          "height": 260
        },
        "outputId": "8c93790e-1a91-4575-88db-f2413b2bc1e6"
      },
      "source": [
        "## For tokenization and sentiment analysis\n",
        "import re, string, random\n",
        "import nltk\n",
        "import matplotlib.pyplot as plt\n",
        "from nltk.tokenize import word_tokenize\n",
        "from nltk.corpus import twitter_samples, stopwords\n",
        "from nltk.tag import pos_tag\n",
        "from nltk.stem.wordnet import WordNetLemmatizer\n",
        "from nltk import FreqDist, classify, NaiveBayesClassifier\n",
        "nltk.download('wordnet')# is a lexical database for the English language that helps the script determine the base word\n",
        "nltk.download('averaged_perceptron_tagger')#esource to determine the context of a word in a sentence.\n",
        "nltk.download('stopwords')\n",
        "nltk.download('twitter_samples')\n",
        "nltk.download('word_tokenize')\n",
        "nltk.download('punkt')\n",
        "stop_words = stopwords.words('english')"
      ],
      "execution_count": null,
      "outputs": [
        {
          "output_type": "stream",
          "text": [
            "[nltk_data] Downloading package wordnet to /root/nltk_data...\n",
            "[nltk_data]   Package wordnet is already up-to-date!\n",
            "[nltk_data] Downloading package averaged_perceptron_tagger to\n",
            "[nltk_data]     /root/nltk_data...\n",
            "[nltk_data]   Package averaged_perceptron_tagger is already up-to-\n",
            "[nltk_data]       date!\n",
            "[nltk_data] Downloading package stopwords to /root/nltk_data...\n",
            "[nltk_data]   Package stopwords is already up-to-date!\n",
            "[nltk_data] Downloading package twitter_samples to /root/nltk_data...\n",
            "[nltk_data]   Package twitter_samples is already up-to-date!\n",
            "[nltk_data] Error loading word_tokenize: Package 'word_tokenize' not\n",
            "[nltk_data]     found in index\n",
            "[nltk_data] Downloading package punkt to /root/nltk_data...\n",
            "[nltk_data]   Package punkt is already up-to-date!\n"
          ],
          "name": "stdout"
        }
      ]
    },
    {
      "cell_type": "code",
      "metadata": {
        "id": "wj0WOTzFKy30",
        "colab_type": "code",
        "colab": {}
      },
      "source": [
        "\n",
        "\n",
        "lemmatizer = WordNetLemmatizer()  \n",
        "\n",
        "words_in_t = [] #all tokens in true articles\n",
        "words_in_f = [] #all tokens in fake articles\n",
        "words_in_each_article_t = [] #list of true articles, each in tokenized form\n",
        "words_in_each_article_f = [] #list of fake articles, each in tokenized form\n",
        "lemmatizer = WordNetLemmatizer()  \n",
        "def process(df, word_list, by_article_list):\n",
        "  for statement in (df[\"statement\"]):\n",
        "    words = word_tokenize(statement)\n",
        "    words = [word.lower() for word in words if word.isalpha()] #lowercase\n",
        "    words = [word for word in words if word not in string.punctuation and word not in stop_words] #punctuation, stopwords\n",
        "    words = [lemmatizer.lemmatize(word) for word in words] #convert word to root form\n",
        "\n",
        "    by_article_list.append(words)\n",
        "    for w in words:\n",
        "      word_list.append(w)"
      ],
      "execution_count": null,
      "outputs": []
    },
    {
      "cell_type": "code",
      "metadata": {
        "id": "l1iRpcHke-ps",
        "colab_type": "code",
        "colab": {}
      },
      "source": [
        "process(false_statement, words_in_f, words_in_each_article_f)"
      ],
      "execution_count": null,
      "outputs": []
    },
    {
      "cell_type": "code",
      "metadata": {
        "id": "DvSC5ti0f7t2",
        "colab_type": "code",
        "colab": {}
      },
      "source": [
        "process(true_statement, words_in_t, words_in_each_article_t)"
      ],
      "execution_count": null,
      "outputs": []
    },
    {
      "cell_type": "code",
      "metadata": {
        "id": "V-Z4YBazf-w6",
        "colab_type": "code",
        "colab": {
          "base_uri": "https://localhost:8080/",
          "height": 34
        },
        "outputId": "9e6c5c96-d516-4183-c5e1-9cdf43f4fc4c"
      },
      "source": [
        "len(words_in_each_article_t)"
      ],
      "execution_count": null,
      "outputs": [
        {
          "output_type": "execute_result",
          "data": {
            "text/plain": [
              "8245"
            ]
          },
          "metadata": {
            "tags": []
          },
          "execution_count": 75
        }
      ]
    },
    {
      "cell_type": "code",
      "metadata": {
        "id": "zp6Cvs26yXR6",
        "colab_type": "code",
        "colab": {
          "base_uri": "https://localhost:8080/",
          "height": 231
        },
        "outputId": "9471c716-b812-49e6-a90a-e0d798659f59"
      },
      "source": [
        "from collections import Counter\n",
        "from wordcloud import WordCloud\n",
        "cnt = Counter(words_in_t)\n",
        "# print(cnt.most_common(10))\n",
        "# len(words_in_t[1:])\n",
        "t_wc = WordCloud(max_words=25,relative_scaling=1,background_color ='white', normalize_plurals=False).generate_from_frequencies(dict(cnt))\n",
        "\n",
        "plt.imshow(t_wc)\n",
        "plt.title(\"Plot of Most Frequent Words in Real News\")\n",
        "plt.show()"
      ],
      "execution_count": null,
      "outputs": [
        {
          "output_type": "display_data",
          "data": {
            "image/png": "[encoded data removed]",
            "text/plain": [
              "<Figure size 432x288 with 1 Axes>"
            ]
          },
          "metadata": {
            "tags": [],
            "needs_background": "dark"
          }
        }
      ]
    },
    {
      "cell_type": "code",
      "metadata": {
        "id": "icNHBqbTgGNR",
        "colab_type": "code",
        "colab": {
          "base_uri": "https://localhost:8080/",
          "height": 382
        },
        "outputId": "181c12ca-5f88-4b41-c084-9a11abe0409e"
      },
      "source": [
        "from collections import Counter\n",
        "#To count in form of bigram, trigram and so on\n",
        "bigrams_t = zip(words_in_t, words_in_t[1:])\n",
        "bigrams_t_count = Counter(bigrams_t)\n",
        "bigrams_t = pd.DataFrame(bigrams_t_count.most_common(20), columns= ['Bigrams', 'No of mentions'])\n",
        "print(bigrams_t)\n"
      ],
      "execution_count": null,
      "outputs": [
        {
          "output_type": "stream",
          "text": [
            "                Bigrams  No of mentions\n",
            "0        (health, care)             303\n",
            "1       (united, state)             248\n",
            "2       (barack, obama)             217\n",
            "3    (hillary, clinton)             155\n",
            "4          (last, year)             118\n",
            "5       (donald, trump)             117\n",
            "6   (president, barack)             115\n",
            "7    (president, obama)             114\n",
            "8    (social, security)             103\n",
            "9        (mitt, romney)              89\n",
            "10  (health, insurance)              89\n",
            "11      (scott, walker)              84\n",
            "12      (rhode, island)              80\n",
            "13           (tax, cut)              73\n",
            "14       (say, hillary)              68\n",
            "15          (year, say)              65\n",
            "16        (new, jersey)              65\n",
            "17     (say, president)              62\n",
            "18        (say, donald)              60\n",
            "19       (took, office)              59\n"
          ],
          "name": "stdout"
        }
      ]
    },
    {
      "cell_type": "code",
      "metadata": {
        "id": "jdklOvYLznlH",
        "colab_type": "code",
        "colab": {
          "base_uri": "https://localhost:8080/",
          "height": 382
        },
        "outputId": "1d5254a1-d7fc-46a5-afec-f6c20f07841a"
      },
      "source": [
        "trigrams_t = zip(words_in_t, words_in_t[1:], words_in_t[2:])\n",
        "trigrams_t_count = Counter(trigrams_t)\n",
        "trigrams_t = pd.DataFrame(trigrams_t_count.most_common(20), columns= ['trigrams', 'No of mentions'])\n",
        "print(trigrams_t)"
      ],
      "execution_count": null,
      "outputs": [
        {
          "output_type": "stream",
          "text": [
            "                           trigrams  No of mentions\n",
            "0        (president, barack, obama)              89\n",
            "1           (say, hillary, clinton)              67\n",
            "2              (say, donald, trump)              60\n",
            "3               (say, mitt, romney)              48\n",
            "4               (health, care, law)              48\n",
            "5              (gov, scott, walker)              42\n",
            "6          (say, president, barack)              41\n",
            "7           (affordable, care, act)              31\n",
            "8              (health, care, bill)              31\n",
            "9              (health, care, plan)              30\n",
            "10           (health, care, reform)              29\n",
            "11             (say, barack, obama)              29\n",
            "12      (president, barack, obamas)              25\n",
            "13             (united, state, say)              21\n",
            "14            (cent, every, dollar)              20\n",
            "15             (say, scott, walker)              19\n",
            "16              (say, marco, rubio)              18\n",
            "17               (say, rick, perry)              17\n",
            "18  (congressional, budget, office)              17\n",
            "19            (barack, obama, said)              16\n"
          ],
          "name": "stdout"
        }
      ]
    },
    {
      "cell_type": "code",
      "metadata": {
        "id": "EkvEJ4eqzP0g",
        "colab_type": "code",
        "colab": {}
      },
      "source": [
        "X = []\n",
        "for a in words_in_each_article_t:\n",
        "  X.append(a)\n",
        "for b in words_in_each_article_f:\n",
        "  X.append(b)"
      ],
      "execution_count": null,
      "outputs": []
    },
    {
      "cell_type": "code",
      "metadata": {
        "id": "tsR4A-Fp7yM8",
        "colab_type": "code",
        "colab": {
          "base_uri": "https://localhost:8080/",
          "height": 226
        },
        "outputId": "8e65d2c1-ed4c-43c6-82a8-b336c546ad4a"
      },
      "source": [
        "#Keep words that appear in greater than 2% of documents. Override preprocessor and implement on list of words\n",
        "#in each article in order to keep the words we have cleaned for earlier\n",
        "tfidf = TfidfVectorizer(min_df=0.02, preprocessor = ' '.join)\n",
        "\n",
        "#Implement on train dataset\n",
        "response_train = tfidf.fit_transform(X) #This is the Sparse Document-Term Matrix\n",
        "feature_names_train = tfidf.get_feature_names()\n",
        "dense_train = response_train.todense() #This is the Dense Document-Term Matrix\n",
        "denselist_train = dense_train.tolist()\n",
        "X = pd.DataFrame(denselist_train, columns=feature_names_train)                       \n",
        "X.head()"
      ],
      "execution_count": null,
      "outputs": [
        {
          "output_type": "execute_result",
          "data": {
            "text/html": [
              "<div>\n",
              "<style scoped>\n",
              "    .dataframe tbody tr th:only-of-type {\n",
              "        vertical-align: middle;\n",
              "    }\n",
              "\n",
              "    .dataframe tbody tr th {\n",
              "        vertical-align: top;\n",
              "    }\n",
              "\n",
              "    .dataframe thead th {\n",
              "        text-align: right;\n",
              "    }\n",
              "</style>\n",
              "<table border=\"1\" class=\"dataframe\">\n",
              "  <thead>\n",
              "    <tr style=\"text-align: right;\">\n",
              "      <th></th>\n",
              "      <th>america</th>\n",
              "      <th>american</th>\n",
              "      <th>barack</th>\n",
              "      <th>bill</th>\n",
              "      <th>billion</th>\n",
              "      <th>budget</th>\n",
              "      <th>care</th>\n",
              "      <th>city</th>\n",
              "      <th>clinton</th>\n",
              "      <th>cost</th>\n",
              "      <th>country</th>\n",
              "      <th>cut</th>\n",
              "      <th>day</th>\n",
              "      <th>dollar</th>\n",
              "      <th>even</th>\n",
              "      <th>every</th>\n",
              "      <th>federal</th>\n",
              "      <th>first</th>\n",
              "      <th>florida</th>\n",
              "      <th>get</th>\n",
              "      <th>government</th>\n",
              "      <th>governor</th>\n",
              "      <th>health</th>\n",
              "      <th>job</th>\n",
              "      <th>last</th>\n",
              "      <th>law</th>\n",
              "      <th>million</th>\n",
              "      <th>money</th>\n",
              "      <th>new</th>\n",
              "      <th>obama</th>\n",
              "      <th>obamacare</th>\n",
              "      <th>office</th>\n",
              "      <th>one</th>\n",
              "      <th>pay</th>\n",
              "      <th>people</th>\n",
              "      <th>percent</th>\n",
              "      <th>plan</th>\n",
              "      <th>president</th>\n",
              "      <th>public</th>\n",
              "      <th>rate</th>\n",
              "      <th>republican</th>\n",
              "      <th>said</th>\n",
              "      <th>say</th>\n",
              "      <th>school</th>\n",
              "      <th>scott</th>\n",
              "      <th>senate</th>\n",
              "      <th>since</th>\n",
              "      <th>spending</th>\n",
              "      <th>state</th>\n",
              "      <th>tax</th>\n",
              "      <th>texas</th>\n",
              "      <th>time</th>\n",
              "      <th>united</th>\n",
              "      <th>vote</th>\n",
              "      <th>voted</th>\n",
              "      <th>wisconsin</th>\n",
              "      <th>woman</th>\n",
              "      <th>would</th>\n",
              "      <th>year</th>\n",
              "    </tr>\n",
              "  </thead>\n",
              "  <tbody>\n",
              "    <tr>\n",
              "      <th>0</th>\n",
              "      <td>0.0</td>\n",
              "      <td>0.0</td>\n",
              "      <td>0.0</td>\n",
              "      <td>0.0</td>\n",
              "      <td>0.0</td>\n",
              "      <td>0.0</td>\n",
              "      <td>0.0</td>\n",
              "      <td>0.0</td>\n",
              "      <td>0.0</td>\n",
              "      <td>0.0</td>\n",
              "      <td>0.0</td>\n",
              "      <td>0.0</td>\n",
              "      <td>0.0</td>\n",
              "      <td>0.0</td>\n",
              "      <td>0.0</td>\n",
              "      <td>0.0</td>\n",
              "      <td>0.0</td>\n",
              "      <td>0.0</td>\n",
              "      <td>0.0</td>\n",
              "      <td>0.0</td>\n",
              "      <td>0.0</td>\n",
              "      <td>0.0</td>\n",
              "      <td>0.0</td>\n",
              "      <td>0.0</td>\n",
              "      <td>0.000000</td>\n",
              "      <td>0.0</td>\n",
              "      <td>0.0</td>\n",
              "      <td>0.0</td>\n",
              "      <td>0.0</td>\n",
              "      <td>0.0</td>\n",
              "      <td>0.0</td>\n",
              "      <td>0.0</td>\n",
              "      <td>0.0</td>\n",
              "      <td>0.0</td>\n",
              "      <td>0.0</td>\n",
              "      <td>0.0</td>\n",
              "      <td>0.0</td>\n",
              "      <td>1.0</td>\n",
              "      <td>0.0</td>\n",
              "      <td>0.0</td>\n",
              "      <td>0.0</td>\n",
              "      <td>0.0</td>\n",
              "      <td>0.0</td>\n",
              "      <td>0.0</td>\n",
              "      <td>0.0</td>\n",
              "      <td>0.0</td>\n",
              "      <td>0.0</td>\n",
              "      <td>0.0</td>\n",
              "      <td>0.0</td>\n",
              "      <td>0.0</td>\n",
              "      <td>0.0</td>\n",
              "      <td>0.0</td>\n",
              "      <td>0.0</td>\n",
              "      <td>0.0</td>\n",
              "      <td>0.0</td>\n",
              "      <td>0.0</td>\n",
              "      <td>0.0</td>\n",
              "      <td>0.0</td>\n",
              "      <td>0.000000</td>\n",
              "    </tr>\n",
              "    <tr>\n",
              "      <th>1</th>\n",
              "      <td>0.0</td>\n",
              "      <td>0.0</td>\n",
              "      <td>0.0</td>\n",
              "      <td>0.0</td>\n",
              "      <td>0.0</td>\n",
              "      <td>0.0</td>\n",
              "      <td>0.0</td>\n",
              "      <td>0.0</td>\n",
              "      <td>1.0</td>\n",
              "      <td>0.0</td>\n",
              "      <td>0.0</td>\n",
              "      <td>0.0</td>\n",
              "      <td>0.0</td>\n",
              "      <td>0.0</td>\n",
              "      <td>0.0</td>\n",
              "      <td>0.0</td>\n",
              "      <td>0.0</td>\n",
              "      <td>0.0</td>\n",
              "      <td>0.0</td>\n",
              "      <td>0.0</td>\n",
              "      <td>0.0</td>\n",
              "      <td>0.0</td>\n",
              "      <td>0.0</td>\n",
              "      <td>0.0</td>\n",
              "      <td>0.000000</td>\n",
              "      <td>0.0</td>\n",
              "      <td>0.0</td>\n",
              "      <td>0.0</td>\n",
              "      <td>0.0</td>\n",
              "      <td>0.0</td>\n",
              "      <td>0.0</td>\n",
              "      <td>0.0</td>\n",
              "      <td>0.0</td>\n",
              "      <td>0.0</td>\n",
              "      <td>0.0</td>\n",
              "      <td>0.0</td>\n",
              "      <td>0.0</td>\n",
              "      <td>0.0</td>\n",
              "      <td>0.0</td>\n",
              "      <td>0.0</td>\n",
              "      <td>0.0</td>\n",
              "      <td>0.0</td>\n",
              "      <td>0.0</td>\n",
              "      <td>0.0</td>\n",
              "      <td>0.0</td>\n",
              "      <td>0.0</td>\n",
              "      <td>0.0</td>\n",
              "      <td>0.0</td>\n",
              "      <td>0.0</td>\n",
              "      <td>0.0</td>\n",
              "      <td>0.0</td>\n",
              "      <td>0.0</td>\n",
              "      <td>0.0</td>\n",
              "      <td>0.0</td>\n",
              "      <td>0.0</td>\n",
              "      <td>0.0</td>\n",
              "      <td>0.0</td>\n",
              "      <td>0.0</td>\n",
              "      <td>0.000000</td>\n",
              "    </tr>\n",
              "    <tr>\n",
              "      <th>2</th>\n",
              "      <td>0.0</td>\n",
              "      <td>0.0</td>\n",
              "      <td>0.0</td>\n",
              "      <td>0.0</td>\n",
              "      <td>0.0</td>\n",
              "      <td>0.0</td>\n",
              "      <td>0.0</td>\n",
              "      <td>0.0</td>\n",
              "      <td>0.0</td>\n",
              "      <td>0.0</td>\n",
              "      <td>0.0</td>\n",
              "      <td>0.0</td>\n",
              "      <td>0.0</td>\n",
              "      <td>0.0</td>\n",
              "      <td>0.0</td>\n",
              "      <td>0.0</td>\n",
              "      <td>0.0</td>\n",
              "      <td>0.0</td>\n",
              "      <td>0.0</td>\n",
              "      <td>0.0</td>\n",
              "      <td>0.0</td>\n",
              "      <td>0.0</td>\n",
              "      <td>0.0</td>\n",
              "      <td>0.0</td>\n",
              "      <td>0.000000</td>\n",
              "      <td>0.0</td>\n",
              "      <td>0.0</td>\n",
              "      <td>0.0</td>\n",
              "      <td>0.0</td>\n",
              "      <td>0.0</td>\n",
              "      <td>0.0</td>\n",
              "      <td>0.0</td>\n",
              "      <td>0.0</td>\n",
              "      <td>0.0</td>\n",
              "      <td>0.0</td>\n",
              "      <td>0.0</td>\n",
              "      <td>0.0</td>\n",
              "      <td>0.0</td>\n",
              "      <td>0.0</td>\n",
              "      <td>0.0</td>\n",
              "      <td>0.0</td>\n",
              "      <td>0.0</td>\n",
              "      <td>0.0</td>\n",
              "      <td>0.0</td>\n",
              "      <td>0.0</td>\n",
              "      <td>0.0</td>\n",
              "      <td>0.0</td>\n",
              "      <td>0.0</td>\n",
              "      <td>0.0</td>\n",
              "      <td>0.0</td>\n",
              "      <td>0.0</td>\n",
              "      <td>0.0</td>\n",
              "      <td>0.0</td>\n",
              "      <td>0.0</td>\n",
              "      <td>0.0</td>\n",
              "      <td>0.0</td>\n",
              "      <td>0.0</td>\n",
              "      <td>0.0</td>\n",
              "      <td>0.000000</td>\n",
              "    </tr>\n",
              "    <tr>\n",
              "      <th>3</th>\n",
              "      <td>0.0</td>\n",
              "      <td>0.0</td>\n",
              "      <td>0.0</td>\n",
              "      <td>0.0</td>\n",
              "      <td>0.0</td>\n",
              "      <td>0.0</td>\n",
              "      <td>0.0</td>\n",
              "      <td>0.0</td>\n",
              "      <td>0.0</td>\n",
              "      <td>0.0</td>\n",
              "      <td>0.0</td>\n",
              "      <td>0.0</td>\n",
              "      <td>0.0</td>\n",
              "      <td>0.0</td>\n",
              "      <td>0.0</td>\n",
              "      <td>0.0</td>\n",
              "      <td>0.0</td>\n",
              "      <td>0.0</td>\n",
              "      <td>0.0</td>\n",
              "      <td>0.0</td>\n",
              "      <td>0.0</td>\n",
              "      <td>0.0</td>\n",
              "      <td>0.0</td>\n",
              "      <td>0.0</td>\n",
              "      <td>0.939747</td>\n",
              "      <td>0.0</td>\n",
              "      <td>0.0</td>\n",
              "      <td>0.0</td>\n",
              "      <td>0.0</td>\n",
              "      <td>0.0</td>\n",
              "      <td>0.0</td>\n",
              "      <td>0.0</td>\n",
              "      <td>0.0</td>\n",
              "      <td>0.0</td>\n",
              "      <td>0.0</td>\n",
              "      <td>0.0</td>\n",
              "      <td>0.0</td>\n",
              "      <td>0.0</td>\n",
              "      <td>0.0</td>\n",
              "      <td>0.0</td>\n",
              "      <td>0.0</td>\n",
              "      <td>0.0</td>\n",
              "      <td>0.0</td>\n",
              "      <td>0.0</td>\n",
              "      <td>0.0</td>\n",
              "      <td>0.0</td>\n",
              "      <td>0.0</td>\n",
              "      <td>0.0</td>\n",
              "      <td>0.0</td>\n",
              "      <td>0.0</td>\n",
              "      <td>0.0</td>\n",
              "      <td>0.0</td>\n",
              "      <td>0.0</td>\n",
              "      <td>0.0</td>\n",
              "      <td>0.0</td>\n",
              "      <td>0.0</td>\n",
              "      <td>0.0</td>\n",
              "      <td>0.0</td>\n",
              "      <td>0.341872</td>\n",
              "    </tr>\n",
              "    <tr>\n",
              "      <th>4</th>\n",
              "      <td>0.0</td>\n",
              "      <td>0.0</td>\n",
              "      <td>0.0</td>\n",
              "      <td>0.0</td>\n",
              "      <td>0.0</td>\n",
              "      <td>0.0</td>\n",
              "      <td>0.0</td>\n",
              "      <td>0.0</td>\n",
              "      <td>0.0</td>\n",
              "      <td>0.0</td>\n",
              "      <td>0.0</td>\n",
              "      <td>0.0</td>\n",
              "      <td>0.0</td>\n",
              "      <td>0.0</td>\n",
              "      <td>0.0</td>\n",
              "      <td>0.0</td>\n",
              "      <td>0.0</td>\n",
              "      <td>0.0</td>\n",
              "      <td>0.0</td>\n",
              "      <td>0.0</td>\n",
              "      <td>0.0</td>\n",
              "      <td>0.0</td>\n",
              "      <td>0.0</td>\n",
              "      <td>0.0</td>\n",
              "      <td>0.000000</td>\n",
              "      <td>0.0</td>\n",
              "      <td>0.0</td>\n",
              "      <td>0.0</td>\n",
              "      <td>0.0</td>\n",
              "      <td>0.0</td>\n",
              "      <td>0.0</td>\n",
              "      <td>0.0</td>\n",
              "      <td>0.0</td>\n",
              "      <td>0.0</td>\n",
              "      <td>0.0</td>\n",
              "      <td>0.0</td>\n",
              "      <td>0.0</td>\n",
              "      <td>0.0</td>\n",
              "      <td>0.0</td>\n",
              "      <td>0.0</td>\n",
              "      <td>0.0</td>\n",
              "      <td>0.0</td>\n",
              "      <td>0.0</td>\n",
              "      <td>0.0</td>\n",
              "      <td>0.0</td>\n",
              "      <td>0.0</td>\n",
              "      <td>0.0</td>\n",
              "      <td>0.0</td>\n",
              "      <td>0.0</td>\n",
              "      <td>0.0</td>\n",
              "      <td>0.0</td>\n",
              "      <td>0.0</td>\n",
              "      <td>0.0</td>\n",
              "      <td>0.0</td>\n",
              "      <td>0.0</td>\n",
              "      <td>0.0</td>\n",
              "      <td>0.0</td>\n",
              "      <td>0.0</td>\n",
              "      <td>1.000000</td>\n",
              "    </tr>\n",
              "  </tbody>\n",
              "</table>\n",
              "</div>"
            ],
            "text/plain": [
              "   america  american  barack  bill  ...  wisconsin  woman  would      year\n",
              "0      0.0       0.0     0.0   0.0  ...        0.0    0.0    0.0  0.000000\n",
              "1      0.0       0.0     0.0   0.0  ...        0.0    0.0    0.0  0.000000\n",
              "2      0.0       0.0     0.0   0.0  ...        0.0    0.0    0.0  0.000000\n",
              "3      0.0       0.0     0.0   0.0  ...        0.0    0.0    0.0  0.341872\n",
              "4      0.0       0.0     0.0   0.0  ...        0.0    0.0    0.0  1.000000\n",
              "\n",
              "[5 rows x 59 columns]"
            ]
          },
          "metadata": {
            "tags": []
          },
          "execution_count": 80
        }
      ]
    },
    {
      "cell_type": "markdown",
      "metadata": {
        "id": "F1jXYGClBQdZ",
        "colab_type": "text"
      },
      "source": [
        ""
      ]
    },
    {
      "cell_type": "code",
      "metadata": {
        "id": "zCLuCcex9nDD",
        "colab_type": "code",
        "colab": {}
      },
      "source": [
        "lemmatizer = WordNetLemmatizer()  \n",
        "def process(df, word_list, by_article_list):\n",
        "  for statement in (df[\"statement\"]):\n",
        "    words = word_tokenize(statement)\n",
        "    words = [word.lower() for word in words if word.isalpha()] #lowercase\n",
        "    words = [word for word in words if word not in string.punctuation and word not in stop_words] #punctuation, stopwords\n",
        "    words = [lemmatizer.lemmatize(word) for word in words] #convert word to root form\n",
        "\n",
        "    by_article_list.append(words)\n",
        "    for w in words:\n",
        "      word_list.append(w)"
      ],
      "execution_count": null,
      "outputs": []
    },
    {
      "cell_type": "code",
      "metadata": {
        "id": "RqqZcXMJ4AaH",
        "colab_type": "code",
        "colab": {}
      },
      "source": [
        "from sklearn.feature_extraction.text import TfidfVectorizer\n",
        "truth = {'false':0.,'half-true':1,'mostly-true':1,'true':1.,'pants-fire':0,'barely-true':0} \n",
        "\n",
        "def Generate_words_ds(dataset):\n",
        "  false_statement = dataset[dataset['label'] == ('false' or 'pants-fire' or 'barely-true')]\n",
        "  true_statement = dataset[(dataset['label'] != ('false' or 'pants-fire' or 'barely-true'))]\n",
        "\n",
        "  words_in_t = [] #all tokens in true articles\n",
        "  words_in_f = [] #all tokens in fake articles\n",
        "  X = []\n",
        "  words_in_each_article_t = [] #list of true articles, each in tokenized form\n",
        "  words_in_each_article_f = [] #list of fake articles, each in tokenized form\n",
        "  process(false_statement, words_in_f, words_in_each_article_f)\n",
        "  process(true_statement, words_in_t, words_in_each_article_t)\n",
        "  print(len(words_in_each_article_t))\n",
        "  print(len(words_in_each_article_f))\n",
        "  for a in words_in_each_article_t:\n",
        "    X.append(a)\n",
        "  for b in words_in_each_article_f:\n",
        "    X.append(b)\n",
        "  #Keep words that appear in greater than 10% of documents.(can be done by min_df=0.1) but low accuracy\n",
        "  #  Override preprocessor and implement on list of words\n",
        "  #in each article in order to keep the words we have cleaned for earlier\n",
        "  tfidf = TfidfVectorizer( preprocessor = ' '.join)\n",
        "\n",
        "  #Implement on train dataset\n",
        "  response_train = tfidf.fit_transform(X) #This is the Sparse Document-Term Matrix\n",
        "  feature_names_train = tfidf.get_feature_names()\n",
        "  dense_train = response_train.todense() #This is the Dense Document-Term Matrix\n",
        "  denselist_train = dense_train.tolist()\n",
        "  X = pd.DataFrame(denselist_train, columns=feature_names_train)                       \n",
        "  return X, dataset['label'].apply(lambda x: truth[x])"
      ],
      "execution_count": null,
      "outputs": []
    },
    {
      "cell_type": "markdown",
      "metadata": {
        "id": "Geb_PZ4e8kSO",
        "colab_type": "text"
      },
      "source": [
        "##Twitter sample checking"
      ]
    },
    {
      "cell_type": "code",
      "metadata": {
        "id": "zxXr2WDY2Qp8",
        "colab_type": "code",
        "colab": {}
      },
      "source": [
        "true_statement = twitter_samples.strings('positive_tweets.json')\n",
        "false_statement = twitter_samples.strings('negative_tweets.json')"
      ],
      "execution_count": null,
      "outputs": []
    },
    {
      "cell_type": "code",
      "metadata": {
        "id": "TR_HUehk2TC4",
        "colab_type": "code",
        "colab": {}
      },
      "source": [
        "\n",
        "\n",
        "lemmatizer = WordNetLemmatizer()  \n",
        "def process(df, word_list, by_article_list):\n",
        "  for statement in (df):\n",
        "    words = word_tokenize(statement)\n",
        "    for word in words:\n",
        "      word = re.sub('http[s]?://(?:[a-zA-Z]|[0-9]|[$-_@.&+#]|[!*\\(\\),]|'\\\n",
        "                        '(?:%[0-9a-fA-F][0-9a-fA-F]))+','', word)\n",
        "      word = re.sub(\"(@[A-Za-z0-9_]+)\",\" \",word)\n",
        "    words = [word.lower() for word in words if word.isalpha()] #lowercase\n",
        "    words = [word for word in words if word not in string.punctuation and word not in stop_words] #punctuation, stopwords\n",
        "    words = [lemmatizer.lemmatize(word) for word in words] #convert word to root form\n",
        "\n",
        "    by_article_list.append(words)\n",
        "    for w in words:\n",
        "      word_list.append(w)"
      ],
      "execution_count": null,
      "outputs": []
    },
    {
      "cell_type": "code",
      "metadata": {
        "id": "At4A9z8C2TMj",
        "colab_type": "code",
        "colab": {}
      },
      "source": [
        "words_in_t = [] #all tokens in true articles\n",
        "words_in_f = [] #all tokens in fake articles\n",
        "X = []\n",
        "words_in_each_article_t = [] #list of true articles, each in tokenized form\n",
        "words_in_each_article_f = [] #list of fake articles, each in tokenized form\n",
        "process(false_statement, words_in_f, words_in_each_article_f)\n",
        "process(true_statement, words_in_t, words_in_each_article_t)"
      ],
      "execution_count": null,
      "outputs": []
    },
    {
      "cell_type": "code",
      "metadata": {
        "id": "gLZo31UI4wa7",
        "colab_type": "code",
        "colab": {}
      },
      "source": [
        "for a in words_in_each_article_t:\n",
        "  X.append(a)\n",
        "for b in words_in_each_article_f:\n",
        "  X.append(b)\n",
        "#Keep words that appear in greater than 10% of documents. Override preprocessor and implement on list of words\n",
        "#in each article in order to keep the words we have cleaned for earlier\n",
        "tfidf = TfidfVectorizer(min_df = 0.001, preprocessor = ' '.join)\n",
        "\n",
        "#Implement on train dataset\n",
        "response_train = tfidf.fit_transform(X) #This is the Sparse Document-Term Matrix\n",
        "feature_names_train = tfidf.get_feature_names()\n",
        "dense_train = response_train.todense() #This is the Dense Document-Term Matrix\n",
        "denselist_train = dense_train.tolist()\n",
        "X = pd.DataFrame(denselist_train, columns=feature_names_train)   "
      ],
      "execution_count": null,
      "outputs": []
    },
    {
      "cell_type": "code",
      "metadata": {
        "id": "qq0dvsjb5xJW",
        "colab_type": "code",
        "colab": {}
      },
      "source": [
        "y = pd.DataFrame([1 for i in range(0,5000)]+ [0 for i in range(0,5000)], columns={'label'})"
      ],
      "execution_count": null,
      "outputs": []
    },
    {
      "cell_type": "code",
      "metadata": {
        "id": "Ga3Pub6H7uc5",
        "colab_type": "code",
        "colab": {
          "base_uri": "https://localhost:8080/",
          "height": 53
        },
        "outputId": "d0a83058-5786-4ecc-f9fe-65153f43b4b7"
      },
      "source": [
        "true_statement[1]"
      ],
      "execution_count": null,
      "outputs": [
        {
          "output_type": "execute_result",
          "data": {
            "application/vnd.google.colaboratory.intrinsic": {
              "type": "string"
            },
            "text/plain": [
              "'@Lamb2ja Hey James! How odd :/ Please call our Contact Centre on 02392441234 and we will be able to assist you :) Many thanks!'"
            ]
          },
          "metadata": {
            "tags": []
          },
          "execution_count": 87
        }
      ]
    },
    {
      "cell_type": "code",
      "metadata": {
        "id": "XjQdMUBV6M1_",
        "colab_type": "code",
        "colab": {
          "base_uri": "https://localhost:8080/",
          "height": 256
        },
        "outputId": "b544bbb9-4f9c-4d3e-cc4c-ba3bb85d7c91"
      },
      "source": [
        "X.head()"
      ],
      "execution_count": null,
      "outputs": [
        {
          "output_type": "execute_result",
          "data": {
            "text/html": [
              "<div>\n",
              "<style scoped>\n",
              "    .dataframe tbody tr th:only-of-type {\n",
              "        vertical-align: middle;\n",
              "    }\n",
              "\n",
              "    .dataframe tbody tr th {\n",
              "        vertical-align: top;\n",
              "    }\n",
              "\n",
              "    .dataframe thead th {\n",
              "        text-align: right;\n",
              "    }\n",
              "</style>\n",
              "<table border=\"1\" class=\"dataframe\">\n",
              "  <thead>\n",
              "    <tr style=\"text-align: right;\">\n",
              "      <th></th>\n",
              "      <th>able</th>\n",
              "      <th>absolutely</th>\n",
              "      <th>acc</th>\n",
              "      <th>account</th>\n",
              "      <th>act</th>\n",
              "      <th>actually</th>\n",
              "      <th>add</th>\n",
              "      <th>added</th>\n",
              "      <th>address</th>\n",
              "      <th>adeccowaytowork</th>\n",
              "      <th>af</th>\n",
              "      <th>afternoon</th>\n",
              "      <th>ago</th>\n",
              "      <th>agree</th>\n",
              "      <th>ah</th>\n",
              "      <th>ahh</th>\n",
              "      <th>ai</th>\n",
              "      <th>airport</th>\n",
              "      <th>album</th>\n",
              "      <th>almost</th>\n",
              "      <th>alone</th>\n",
              "      <th>already</th>\n",
              "      <th>also</th>\n",
              "      <th>always</th>\n",
              "      <th>amazing</th>\n",
              "      <th>amber</th>\n",
              "      <th>amp</th>\n",
              "      <th>annoying</th>\n",
              "      <th>another</th>\n",
              "      <th>answer</th>\n",
              "      <th>anymore</th>\n",
              "      <th>anyone</th>\n",
              "      <th>anything</th>\n",
              "      <th>anyway</th>\n",
              "      <th>app</th>\n",
              "      <th>apparently</th>\n",
              "      <th>appreciate</th>\n",
              "      <th>appreciated</th>\n",
              "      <th>around</th>\n",
              "      <th>arrived</th>\n",
              "      <th>...</th>\n",
              "      <th>without</th>\n",
              "      <th>wo</th>\n",
              "      <th>woke</th>\n",
              "      <th>woman</th>\n",
              "      <th>wonder</th>\n",
              "      <th>wonderful</th>\n",
              "      <th>wont</th>\n",
              "      <th>word</th>\n",
              "      <th>work</th>\n",
              "      <th>working</th>\n",
              "      <th>world</th>\n",
              "      <th>worry</th>\n",
              "      <th>worse</th>\n",
              "      <th>worst</th>\n",
              "      <th>worth</th>\n",
              "      <th>would</th>\n",
              "      <th>wow</th>\n",
              "      <th>write</th>\n",
              "      <th>wrong</th>\n",
              "      <th>wsalelove</th>\n",
              "      <th>wtf</th>\n",
              "      <th>xd</th>\n",
              "      <th>xx</th>\n",
              "      <th>xxx</th>\n",
              "      <th>ya</th>\n",
              "      <th>yay</th>\n",
              "      <th>yeah</th>\n",
              "      <th>year</th>\n",
              "      <th>yep</th>\n",
              "      <th>yes</th>\n",
              "      <th>yesterday</th>\n",
              "      <th>yet</th>\n",
              "      <th>yo</th>\n",
              "      <th>youre</th>\n",
              "      <th>youth</th>\n",
              "      <th>youtube</th>\n",
              "      <th>yup</th>\n",
              "      <th>zayn</th>\n",
              "      <th>zaynmalik</th>\n",
              "      <th>ｍｅ</th>\n",
              "    </tr>\n",
              "  </thead>\n",
              "  <tbody>\n",
              "    <tr>\n",
              "      <th>0</th>\n",
              "      <td>0.000000</td>\n",
              "      <td>0.0</td>\n",
              "      <td>0.0</td>\n",
              "      <td>0.0</td>\n",
              "      <td>0.0</td>\n",
              "      <td>0.0</td>\n",
              "      <td>0.0</td>\n",
              "      <td>0.0</td>\n",
              "      <td>0.0</td>\n",
              "      <td>0.0</td>\n",
              "      <td>0.0</td>\n",
              "      <td>0.0</td>\n",
              "      <td>0.0</td>\n",
              "      <td>0.0</td>\n",
              "      <td>0.0</td>\n",
              "      <td>0.0</td>\n",
              "      <td>0.0</td>\n",
              "      <td>0.0</td>\n",
              "      <td>0.0</td>\n",
              "      <td>0.0</td>\n",
              "      <td>0.0</td>\n",
              "      <td>0.0</td>\n",
              "      <td>0.0</td>\n",
              "      <td>0.0</td>\n",
              "      <td>0.00000</td>\n",
              "      <td>0.0</td>\n",
              "      <td>0.0</td>\n",
              "      <td>0.0</td>\n",
              "      <td>0.0</td>\n",
              "      <td>0.0</td>\n",
              "      <td>0.0</td>\n",
              "      <td>0.0</td>\n",
              "      <td>0.0</td>\n",
              "      <td>0.0</td>\n",
              "      <td>0.0</td>\n",
              "      <td>0.0</td>\n",
              "      <td>0.0</td>\n",
              "      <td>0.0</td>\n",
              "      <td>0.0</td>\n",
              "      <td>0.0</td>\n",
              "      <td>...</td>\n",
              "      <td>0.0</td>\n",
              "      <td>0.0</td>\n",
              "      <td>0.0</td>\n",
              "      <td>0.0</td>\n",
              "      <td>0.0</td>\n",
              "      <td>0.0</td>\n",
              "      <td>0.0</td>\n",
              "      <td>0.0</td>\n",
              "      <td>0.0</td>\n",
              "      <td>0.0</td>\n",
              "      <td>0.0</td>\n",
              "      <td>0.0</td>\n",
              "      <td>0.0</td>\n",
              "      <td>0.0</td>\n",
              "      <td>0.0</td>\n",
              "      <td>0.0</td>\n",
              "      <td>0.0</td>\n",
              "      <td>0.0</td>\n",
              "      <td>0.0</td>\n",
              "      <td>0.0</td>\n",
              "      <td>0.0</td>\n",
              "      <td>0.0</td>\n",
              "      <td>0.0</td>\n",
              "      <td>0.0</td>\n",
              "      <td>0.0</td>\n",
              "      <td>0.0</td>\n",
              "      <td>0.0</td>\n",
              "      <td>0.0</td>\n",
              "      <td>0.0</td>\n",
              "      <td>0.0</td>\n",
              "      <td>0.0</td>\n",
              "      <td>0.0</td>\n",
              "      <td>0.0</td>\n",
              "      <td>0.0</td>\n",
              "      <td>0.0</td>\n",
              "      <td>0.0</td>\n",
              "      <td>0.0</td>\n",
              "      <td>0.0</td>\n",
              "      <td>0.0</td>\n",
              "      <td>0.0</td>\n",
              "    </tr>\n",
              "    <tr>\n",
              "      <th>1</th>\n",
              "      <td>0.384179</td>\n",
              "      <td>0.0</td>\n",
              "      <td>0.0</td>\n",
              "      <td>0.0</td>\n",
              "      <td>0.0</td>\n",
              "      <td>0.0</td>\n",
              "      <td>0.0</td>\n",
              "      <td>0.0</td>\n",
              "      <td>0.0</td>\n",
              "      <td>0.0</td>\n",
              "      <td>0.0</td>\n",
              "      <td>0.0</td>\n",
              "      <td>0.0</td>\n",
              "      <td>0.0</td>\n",
              "      <td>0.0</td>\n",
              "      <td>0.0</td>\n",
              "      <td>0.0</td>\n",
              "      <td>0.0</td>\n",
              "      <td>0.0</td>\n",
              "      <td>0.0</td>\n",
              "      <td>0.0</td>\n",
              "      <td>0.0</td>\n",
              "      <td>0.0</td>\n",
              "      <td>0.0</td>\n",
              "      <td>0.00000</td>\n",
              "      <td>0.0</td>\n",
              "      <td>0.0</td>\n",
              "      <td>0.0</td>\n",
              "      <td>0.0</td>\n",
              "      <td>0.0</td>\n",
              "      <td>0.0</td>\n",
              "      <td>0.0</td>\n",
              "      <td>0.0</td>\n",
              "      <td>0.0</td>\n",
              "      <td>0.0</td>\n",
              "      <td>0.0</td>\n",
              "      <td>0.0</td>\n",
              "      <td>0.0</td>\n",
              "      <td>0.0</td>\n",
              "      <td>0.0</td>\n",
              "      <td>...</td>\n",
              "      <td>0.0</td>\n",
              "      <td>0.0</td>\n",
              "      <td>0.0</td>\n",
              "      <td>0.0</td>\n",
              "      <td>0.0</td>\n",
              "      <td>0.0</td>\n",
              "      <td>0.0</td>\n",
              "      <td>0.0</td>\n",
              "      <td>0.0</td>\n",
              "      <td>0.0</td>\n",
              "      <td>0.0</td>\n",
              "      <td>0.0</td>\n",
              "      <td>0.0</td>\n",
              "      <td>0.0</td>\n",
              "      <td>0.0</td>\n",
              "      <td>0.0</td>\n",
              "      <td>0.0</td>\n",
              "      <td>0.0</td>\n",
              "      <td>0.0</td>\n",
              "      <td>0.0</td>\n",
              "      <td>0.0</td>\n",
              "      <td>0.0</td>\n",
              "      <td>0.0</td>\n",
              "      <td>0.0</td>\n",
              "      <td>0.0</td>\n",
              "      <td>0.0</td>\n",
              "      <td>0.0</td>\n",
              "      <td>0.0</td>\n",
              "      <td>0.0</td>\n",
              "      <td>0.0</td>\n",
              "      <td>0.0</td>\n",
              "      <td>0.0</td>\n",
              "      <td>0.0</td>\n",
              "      <td>0.0</td>\n",
              "      <td>0.0</td>\n",
              "      <td>0.0</td>\n",
              "      <td>0.0</td>\n",
              "      <td>0.0</td>\n",
              "      <td>0.0</td>\n",
              "      <td>0.0</td>\n",
              "    </tr>\n",
              "    <tr>\n",
              "      <th>2</th>\n",
              "      <td>0.000000</td>\n",
              "      <td>0.0</td>\n",
              "      <td>0.0</td>\n",
              "      <td>0.0</td>\n",
              "      <td>0.0</td>\n",
              "      <td>0.0</td>\n",
              "      <td>0.0</td>\n",
              "      <td>0.0</td>\n",
              "      <td>0.0</td>\n",
              "      <td>0.0</td>\n",
              "      <td>0.0</td>\n",
              "      <td>0.0</td>\n",
              "      <td>0.0</td>\n",
              "      <td>0.0</td>\n",
              "      <td>0.0</td>\n",
              "      <td>0.0</td>\n",
              "      <td>0.0</td>\n",
              "      <td>0.0</td>\n",
              "      <td>0.0</td>\n",
              "      <td>0.0</td>\n",
              "      <td>0.0</td>\n",
              "      <td>0.0</td>\n",
              "      <td>0.0</td>\n",
              "      <td>0.0</td>\n",
              "      <td>0.49742</td>\n",
              "      <td>0.0</td>\n",
              "      <td>0.0</td>\n",
              "      <td>0.0</td>\n",
              "      <td>0.0</td>\n",
              "      <td>0.0</td>\n",
              "      <td>0.0</td>\n",
              "      <td>0.0</td>\n",
              "      <td>0.0</td>\n",
              "      <td>0.0</td>\n",
              "      <td>0.0</td>\n",
              "      <td>0.0</td>\n",
              "      <td>0.0</td>\n",
              "      <td>0.0</td>\n",
              "      <td>0.0</td>\n",
              "      <td>0.0</td>\n",
              "      <td>...</td>\n",
              "      <td>0.0</td>\n",
              "      <td>0.0</td>\n",
              "      <td>0.0</td>\n",
              "      <td>0.0</td>\n",
              "      <td>0.0</td>\n",
              "      <td>0.0</td>\n",
              "      <td>0.0</td>\n",
              "      <td>0.0</td>\n",
              "      <td>0.0</td>\n",
              "      <td>0.0</td>\n",
              "      <td>0.0</td>\n",
              "      <td>0.0</td>\n",
              "      <td>0.0</td>\n",
              "      <td>0.0</td>\n",
              "      <td>0.0</td>\n",
              "      <td>0.0</td>\n",
              "      <td>0.0</td>\n",
              "      <td>0.0</td>\n",
              "      <td>0.0</td>\n",
              "      <td>0.0</td>\n",
              "      <td>0.0</td>\n",
              "      <td>0.0</td>\n",
              "      <td>0.0</td>\n",
              "      <td>0.0</td>\n",
              "      <td>0.0</td>\n",
              "      <td>0.0</td>\n",
              "      <td>0.0</td>\n",
              "      <td>0.0</td>\n",
              "      <td>0.0</td>\n",
              "      <td>0.0</td>\n",
              "      <td>0.0</td>\n",
              "      <td>0.0</td>\n",
              "      <td>0.0</td>\n",
              "      <td>0.0</td>\n",
              "      <td>0.0</td>\n",
              "      <td>0.0</td>\n",
              "      <td>0.0</td>\n",
              "      <td>0.0</td>\n",
              "      <td>0.0</td>\n",
              "      <td>0.0</td>\n",
              "    </tr>\n",
              "    <tr>\n",
              "      <th>3</th>\n",
              "      <td>0.000000</td>\n",
              "      <td>0.0</td>\n",
              "      <td>0.0</td>\n",
              "      <td>0.0</td>\n",
              "      <td>0.0</td>\n",
              "      <td>0.0</td>\n",
              "      <td>0.0</td>\n",
              "      <td>0.0</td>\n",
              "      <td>0.0</td>\n",
              "      <td>0.0</td>\n",
              "      <td>0.0</td>\n",
              "      <td>0.0</td>\n",
              "      <td>0.0</td>\n",
              "      <td>0.0</td>\n",
              "      <td>0.0</td>\n",
              "      <td>0.0</td>\n",
              "      <td>0.0</td>\n",
              "      <td>0.0</td>\n",
              "      <td>0.0</td>\n",
              "      <td>0.0</td>\n",
              "      <td>0.0</td>\n",
              "      <td>0.0</td>\n",
              "      <td>0.0</td>\n",
              "      <td>0.0</td>\n",
              "      <td>0.00000</td>\n",
              "      <td>0.0</td>\n",
              "      <td>0.0</td>\n",
              "      <td>0.0</td>\n",
              "      <td>0.0</td>\n",
              "      <td>0.0</td>\n",
              "      <td>0.0</td>\n",
              "      <td>0.0</td>\n",
              "      <td>0.0</td>\n",
              "      <td>0.0</td>\n",
              "      <td>0.0</td>\n",
              "      <td>0.0</td>\n",
              "      <td>0.0</td>\n",
              "      <td>0.0</td>\n",
              "      <td>0.0</td>\n",
              "      <td>0.0</td>\n",
              "      <td>...</td>\n",
              "      <td>0.0</td>\n",
              "      <td>0.0</td>\n",
              "      <td>0.0</td>\n",
              "      <td>0.0</td>\n",
              "      <td>0.0</td>\n",
              "      <td>0.0</td>\n",
              "      <td>0.0</td>\n",
              "      <td>0.0</td>\n",
              "      <td>0.0</td>\n",
              "      <td>0.0</td>\n",
              "      <td>0.0</td>\n",
              "      <td>0.0</td>\n",
              "      <td>0.0</td>\n",
              "      <td>0.0</td>\n",
              "      <td>0.0</td>\n",
              "      <td>0.0</td>\n",
              "      <td>0.0</td>\n",
              "      <td>0.0</td>\n",
              "      <td>0.0</td>\n",
              "      <td>0.0</td>\n",
              "      <td>0.0</td>\n",
              "      <td>0.0</td>\n",
              "      <td>0.0</td>\n",
              "      <td>0.0</td>\n",
              "      <td>0.0</td>\n",
              "      <td>0.0</td>\n",
              "      <td>0.0</td>\n",
              "      <td>0.0</td>\n",
              "      <td>0.0</td>\n",
              "      <td>0.0</td>\n",
              "      <td>0.0</td>\n",
              "      <td>0.0</td>\n",
              "      <td>0.0</td>\n",
              "      <td>0.0</td>\n",
              "      <td>0.0</td>\n",
              "      <td>0.0</td>\n",
              "      <td>0.0</td>\n",
              "      <td>0.0</td>\n",
              "      <td>0.0</td>\n",
              "      <td>0.0</td>\n",
              "    </tr>\n",
              "    <tr>\n",
              "      <th>4</th>\n",
              "      <td>0.000000</td>\n",
              "      <td>0.0</td>\n",
              "      <td>0.0</td>\n",
              "      <td>0.0</td>\n",
              "      <td>0.0</td>\n",
              "      <td>0.0</td>\n",
              "      <td>0.0</td>\n",
              "      <td>0.0</td>\n",
              "      <td>0.0</td>\n",
              "      <td>0.0</td>\n",
              "      <td>0.0</td>\n",
              "      <td>0.0</td>\n",
              "      <td>0.0</td>\n",
              "      <td>0.0</td>\n",
              "      <td>0.0</td>\n",
              "      <td>0.0</td>\n",
              "      <td>0.0</td>\n",
              "      <td>0.0</td>\n",
              "      <td>0.0</td>\n",
              "      <td>0.0</td>\n",
              "      <td>0.0</td>\n",
              "      <td>0.0</td>\n",
              "      <td>0.0</td>\n",
              "      <td>0.0</td>\n",
              "      <td>0.00000</td>\n",
              "      <td>0.0</td>\n",
              "      <td>0.0</td>\n",
              "      <td>0.0</td>\n",
              "      <td>0.0</td>\n",
              "      <td>0.0</td>\n",
              "      <td>0.0</td>\n",
              "      <td>0.0</td>\n",
              "      <td>0.0</td>\n",
              "      <td>0.0</td>\n",
              "      <td>0.0</td>\n",
              "      <td>0.0</td>\n",
              "      <td>0.0</td>\n",
              "      <td>0.0</td>\n",
              "      <td>0.0</td>\n",
              "      <td>0.0</td>\n",
              "      <td>...</td>\n",
              "      <td>0.0</td>\n",
              "      <td>0.0</td>\n",
              "      <td>0.0</td>\n",
              "      <td>0.0</td>\n",
              "      <td>0.0</td>\n",
              "      <td>0.0</td>\n",
              "      <td>0.0</td>\n",
              "      <td>0.0</td>\n",
              "      <td>0.0</td>\n",
              "      <td>0.0</td>\n",
              "      <td>0.0</td>\n",
              "      <td>0.0</td>\n",
              "      <td>0.0</td>\n",
              "      <td>0.0</td>\n",
              "      <td>0.0</td>\n",
              "      <td>0.0</td>\n",
              "      <td>0.0</td>\n",
              "      <td>0.0</td>\n",
              "      <td>0.0</td>\n",
              "      <td>0.0</td>\n",
              "      <td>0.0</td>\n",
              "      <td>0.0</td>\n",
              "      <td>0.0</td>\n",
              "      <td>0.0</td>\n",
              "      <td>0.0</td>\n",
              "      <td>0.0</td>\n",
              "      <td>0.0</td>\n",
              "      <td>0.0</td>\n",
              "      <td>0.0</td>\n",
              "      <td>0.0</td>\n",
              "      <td>0.0</td>\n",
              "      <td>0.0</td>\n",
              "      <td>0.0</td>\n",
              "      <td>0.0</td>\n",
              "      <td>0.0</td>\n",
              "      <td>0.0</td>\n",
              "      <td>0.0</td>\n",
              "      <td>0.0</td>\n",
              "      <td>0.0</td>\n",
              "      <td>0.0</td>\n",
              "    </tr>\n",
              "  </tbody>\n",
              "</table>\n",
              "<p>5 rows × 829 columns</p>\n",
              "</div>"
            ],
            "text/plain": [
              "       able  absolutely  acc  account  act  ...  youtube  yup  zayn  zaynmalik   ｍｅ\n",
              "0  0.000000         0.0  0.0      0.0  0.0  ...      0.0  0.0   0.0        0.0  0.0\n",
              "1  0.384179         0.0  0.0      0.0  0.0  ...      0.0  0.0   0.0        0.0  0.0\n",
              "2  0.000000         0.0  0.0      0.0  0.0  ...      0.0  0.0   0.0        0.0  0.0\n",
              "3  0.000000         0.0  0.0      0.0  0.0  ...      0.0  0.0   0.0        0.0  0.0\n",
              "4  0.000000         0.0  0.0      0.0  0.0  ...      0.0  0.0   0.0        0.0  0.0\n",
              "\n",
              "[5 rows x 829 columns]"
            ]
          },
          "metadata": {
            "tags": []
          },
          "execution_count": 88
        }
      ]
    },
    {
      "cell_type": "markdown",
      "metadata": {
        "id": "_eecMfog4Ay1",
        "colab_type": "text"
      },
      "source": [
        "##Logistic Regression"
      ]
    },
    {
      "cell_type": "code",
      "metadata": {
        "id": "SYoK7-baILip",
        "colab_type": "code",
        "colab": {}
      },
      "source": [
        "##Importing Different Classifiers\n",
        "from matplotlib.colors import ListedColormap\n",
        "from sklearn.neighbors import KNeighborsClassifier\n",
        "from sklearn.linear_model import LogisticRegression\n",
        "from sklearn.svm import SVC\n",
        "from sklearn.tree import DecisionTreeClassifier\n",
        "from sklearn.ensemble import BaggingClassifier\n",
        "from sklearn.naive_bayes import GaussianNB\n",
        "from sklearn.metrics import precision_recall_curve\n",
        "from sklearn.metrics import f1_score\n",
        "from sklearn.metrics import auc\n"
      ],
      "execution_count": null,
      "outputs": []
    },
    {
      "cell_type": "code",
      "metadata": {
        "id": "CzZhhhli-tb3",
        "colab_type": "code",
        "colab": {}
      },
      "source": [
        "dataset = pd.concat([train_df, test_df])"
      ],
      "execution_count": null,
      "outputs": []
    },
    {
      "cell_type": "code",
      "metadata": {
        "id": "h5GLtf6z-z1a",
        "colab_type": "code",
        "colab": {
          "base_uri": "https://localhost:8080/",
          "height": 69
        },
        "outputId": "2bdc492c-97cd-4e11-8da0-b5cb17a18970"
      },
      "source": [
        "\n",
        "X,y = Generate_words_ds(dataset)\n",
        "X_train,X_test, y_train, y_test = train_test_split(X, y, test_size=0.11, random_state=1)\n",
        "print(X_test.shape)"
      ],
      "execution_count": null,
      "outputs": [
        {
          "output_type": "stream",
          "text": [
            "9263\n",
            "2244\n",
            "(1266, 10316)\n"
          ],
          "name": "stdout"
        }
      ]
    },
    {
      "cell_type": "code",
      "metadata": {
        "id": "KScARnYZ7z3a",
        "colab_type": "code",
        "colab": {
          "base_uri": "https://localhost:8080/",
          "height": 104
        },
        "outputId": "59c36bd1-9174-4e3f-9d85-e58b7860bc80"
      },
      "source": [
        "L = LogisticRegression()\n",
        "L.fit(X, np.ravel(y))"
      ],
      "execution_count": null,
      "outputs": [
        {
          "output_type": "execute_result",
          "data": {
            "text/plain": [
              "LogisticRegression(C=1.0, class_weight=None, dual=False, fit_intercept=True,\n",
              "                   intercept_scaling=1, l1_ratio=None, max_iter=100,\n",
              "                   multi_class='auto', n_jobs=None, penalty='l2',\n",
              "                   random_state=None, solver='lbfgs', tol=0.0001, verbose=0,\n",
              "                   warm_start=False)"
            ]
          },
          "metadata": {
            "tags": []
          },
          "execution_count": 119
        }
      ]
    },
    {
      "cell_type": "code",
      "metadata": {
        "id": "Tg84uWWf2V3T",
        "colab_type": "code",
        "colab": {
          "base_uri": "https://localhost:8080/",
          "height": 52
        },
        "outputId": "002495df-8f0d-4e76-f6c3-e2dc6c4d9dee"
      },
      "source": [
        "y_pred =L.predict(X_test)\n",
        "print(\"Accuracy Score is\",accuracy_score(y_test,y_pred))\n",
        "print(\"Mean Squared Error\",mean_squared_error(y_test,y_pred))"
      ],
      "execution_count": null,
      "outputs": [
        {
          "output_type": "stream",
          "text": [
            "Accuracy Score is 0.7345971563981043\n",
            "Mean Squared Error 0.26540284360189575\n"
          ],
          "name": "stdout"
        }
      ]
    },
    {
      "cell_type": "code",
      "metadata": {
        "id": "KIx1qXy27K53",
        "colab_type": "code",
        "colab": {}
      },
      "source": [
        "# Calculate predicted probabilities for test data \n",
        "y_pred_prob = L.predict_proba(X_test)[:, 1]"
      ],
      "execution_count": null,
      "outputs": []
    },
    {
      "cell_type": "code",
      "metadata": {
        "id": "bYSIsJ3wDHkh",
        "colab_type": "code",
        "colab": {
          "base_uri": "https://localhost:8080/",
          "height": 34
        },
        "outputId": "a290330a-4b72-4231-8253-702d9e964168"
      },
      "source": [
        "roc_auc_score(y_test, y_pred_prob)"
      ],
      "execution_count": null,
      "outputs": [
        {
          "output_type": "execute_result",
          "data": {
            "text/plain": [
              "0.8231498285944747"
            ]
          },
          "metadata": {
            "tags": []
          },
          "execution_count": 122
        }
      ]
    },
    {
      "cell_type": "code",
      "metadata": {
        "id": "Pn7WpkH-GC1u",
        "colab_type": "code",
        "colab": {
          "base_uri": "https://localhost:8080/",
          "height": 52
        },
        "outputId": "7f5dc855-ecd9-46a3-c2cf-d3c536c5bedd"
      },
      "source": [
        "print(confusion_matrix(y_test, y_pred))"
      ],
      "execution_count": null,
      "outputs": [
        {
          "output_type": "stream",
          "text": [
            "[[309 261]\n",
            " [ 75 621]]\n"
          ],
          "name": "stdout"
        }
      ]
    },
    {
      "cell_type": "code",
      "metadata": {
        "id": "O-pBKTwVGfQq",
        "colab_type": "code",
        "colab": {}
      },
      "source": [
        ""
      ],
      "execution_count": null,
      "outputs": []
    }
  ]
}